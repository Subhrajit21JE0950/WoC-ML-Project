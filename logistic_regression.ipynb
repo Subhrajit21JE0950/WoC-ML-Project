{
  "cells": [
    {
      "cell_type": "code",
      "execution_count": 11,
      "metadata": {
        "id": "L9ePvwQwMtnY"
      },
      "outputs": [],
      "source": [
        "import numpy as np\n",
        "import pandas as pd"
      ]
    },
    {
      "cell_type": "code",
      "execution_count": 12,
      "metadata": {
        "id": "dCm_gWu6Nxol"
      },
      "outputs": [],
      "source": [
        "def normalize(arr,cou):\n",
        "  \n",
        "  sum_elements=np.sum(arr)\n",
        "  if(sum_elements!=0):\n",
        "   mean=sum_elements/cou\n",
        "   d=arr-mean\n",
        "   std=np.sum(np.multiply(d,d))\n",
        "   stdev=(std/cou)**0.5\n",
        "   arr=(arr-mean)*(1/stdev)\n",
        "  return arr"
      ]
    },
    {
      "cell_type": "code",
      "execution_count": 13,
      "metadata": {
        "id": "vJjQH4EkNyG1"
      },
      "outputs": [],
      "source": [
        "def get_data(temp):\n",
        " y_train=temp['1']\n",
        " x_train=temp\n",
        " del x_train['1']\n",
        "\n",
        " X_train=x_train.to_numpy()\n",
        " Y_train=y_train.to_numpy()\n",
        " r,c=X_train.shape\n",
        " X_train=X_train.T\n",
        " for i in range(c):\n",
        "  if(i==0):\n",
        "   continue \n",
        "  X_train[i]=normalize(X_train[i],r)\n",
        " X_train=X_train.T\n",
        " \n",
        " return X_train,Y_train"
      ]
    },
    {
      "cell_type": "code",
      "execution_count": 19,
      "metadata": {
        "id": "7uzVUXhhOFrE"
      },
      "outputs": [],
      "source": [
        "temp= pd.read_csv('/content/drive/MyDrive/Colab Notebooks/emnist-letters-train (1).csv')\n",
        "temp1=pd.read_csv('/content/drive/MyDrive/Colab Notebooks/emnist-letters-test.csv')\n",
        "y1 = temp1['1']\n",
        "Y1 = np.array(y1)\n",
        "j = 1000\n",
        "x,y=get_data(temp)\n",
        "X = np.array(pd.DataFrame(x).head(j))\n",
        "Y = np.array(pd.DataFrame(y).head(j))\n",
        "x_train = X\n",
        "y_train = Y\n",
        "\n",
        "x1,y1=get_data(temp1)\n",
        "X1 = np.array(pd.DataFrame(x1).head(j))\n",
        "Y1 = np.array(pd.DataFrame(y1).head(j))\n",
        "x_test=X1\n",
        "y_test=Y1"
      ]
    },
    {
      "cell_type": "code",
      "execution_count": 15,
      "metadata": {
        "id": "8O00uFoHnKvI"
      },
      "outputs": [],
      "source": [
        "class Logistic_Regression():\n",
        "  def __init__(self, lrn_r, it):\n",
        "    self.lrn_r = lrn_r\n",
        "    self.it = it\n",
        "  \n",
        "  def fit(self, X, Y):\n",
        "    self.m, self.n = X.shape\n",
        "    self.w = np.zeros(self.n)\n",
        "    self.b = 0\n",
        "    self.X = X\n",
        "    self.Y = Y\n",
        "    for i in range(self.it):\n",
        "      self.update_weights()\n",
        "\n",
        "  def update_weights(self):\n",
        "    Y_hat = 1 / (1 + np.exp( - (self.X.dot(self.w) + self.b ) ))    \n",
        "    dw = (1/self.m)*np.dot(self.X.T, (Y_hat.reshape((self.Y.shape[0],1)) - self.Y))\n",
        "    db = (1/self.m)*np.sum(Y_hat - self.Y)\n",
        "    self.w -= self.lrn_r * dw.reshape(self.X.shape[1])\n",
        "    self.b -= self.lrn_r * db\n",
        "\n",
        "  def predict(self, X):\n",
        "    Y_pred = 1 / (1 + np.exp( - (X.dot(self.w) + self.b ) )) \n",
        "    Y_pred = np.where( Y_pred > 0.5, 1, 0)\n",
        "    return Y_pred"
      ]
    },
    {
      "cell_type": "code",
      "execution_count": 16,
      "metadata": {
        "id": "Zjcpfr_ft6gh"
      },
      "outputs": [],
      "source": [
        "def succ(pred,Y):\n",
        "  success=0\n",
        "  for i in range(Y.shape[0]):\n",
        "    if(pred[i]==Y[i]):\n",
        "      success+=1\n",
        "  s=success/Y.shape[0]*100\n",
        "  return s"
      ]
    },
    {
      "cell_type": "code",
      "execution_count": 21,
      "metadata": {
        "colab": {
          "base_uri": "https://localhost:8080/"
        },
        "id": "tvmWfCmOoDTl",
        "outputId": "4de2c6c4-c543-4541-c477-1227e285d89a"
      },
      "outputs": [
        {
          "output_type": "stream",
          "name": "stdout",
          "text": [
            "Accuracy of Training Dataset:  72.0\n"
          ]
        }
      ],
      "source": [
        "cls = Logistic_Regression(lrn_r = 0.44, it = 5000)\n",
        "cls.fit(x_train,y_train)\n",
        "x_pred_train = cls.predict(x_train)\n",
        "accuracy_train = (succ(x_pred_train, y_train))*20\n",
        "print(\"Accuracy of Training Dataset: \",(accuracy_train))"
      ]
    },
    {
      "cell_type": "code",
      "execution_count": 23,
      "metadata": {
        "id": "YNhgxhxcpBnD",
        "colab": {
          "base_uri": "https://localhost:8080/"
        },
        "outputId": "1cd0b8dc-3889-4784-d39c-32ac52f4b6ad"
      },
      "outputs": [
        {
          "output_type": "stream",
          "name": "stdout",
          "text": [
            "Accuracy of Test Dataset:  80.0\n"
          ]
        }
      ],
      "source": [
        "x_pred_test = cls.predict(x_test)\n",
        "accuracy_test = (succ(x_pred_test, y_test))\n",
        "print(\"Accuracy of Test Dataset: \",(accuracy_test))"
      ]
    }
  ],
  "metadata": {
    "colab": {
      "name": "logistic_regression.ipynb",
      "provenance": []
    },
    "kernelspec": {
      "display_name": "Python 3",
      "name": "python3"
    },
    "language_info": {
      "name": "python"
    }
  },
  "nbformat": 4,
  "nbformat_minor": 0
}
