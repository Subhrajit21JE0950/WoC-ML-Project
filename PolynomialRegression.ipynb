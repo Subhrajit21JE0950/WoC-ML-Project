{
  "nbformat": 4,
  "nbformat_minor": 0,
  "metadata": {
    "colab": {
      "name": "PolynomialRegression.ipynb",
      "provenance": [],
      "collapsed_sections": []
    },
    "kernelspec": {
      "name": "python3",
      "display_name": "Python 3"
    },
    "language_info": {
      "name": "python"
    }
  },
  "cells": [
    {
      "cell_type": "code",
      "execution_count": null,
      "metadata": {
        "id": "044krMJK6O3f"
      },
      "outputs": [],
      "source": [
        "import pandas as pd\n",
        "import numpy as np\n",
        "import matplotlib.pyplot as plt"
      ]
    },
    {
      "cell_type": "code",
      "source": [
        "temp=pd.read_csv('Polynomial_train.csv')\n",
        "temp2=pd.read_csv('Polynomial_test.csv')"
      ],
      "metadata": {
        "id": "VjwbJ6856tg6"
      },
      "execution_count": null,
      "outputs": []
    },
    {
      "cell_type": "code",
      "source": [
        "x_train=temp\n",
        "y_train=temp['label']\n",
        "del x_train['Unnamed: 0']\n",
        "del x_train['label']\n",
        "x=temp['X']\n",
        "y=temp['Y']\n",
        "z=temp['Z']\n",
        "xarray=x.to_numpy()\n",
        "yarray=y.to_numpy()\n",
        "zarray=z.to_numpy()\n",
        "xsquare=np.multiply(xarray,xarray)\n",
        "ysquare=np.multiply(yarray,yarray)\n",
        "zsquare=np.multiply(zarray,zarray)\n",
        "xy=np.multiply(xarray,yarray)\n",
        "yz=np.multiply(yarray,zarray)\n",
        "zx=np.multiply(zarray,xarray)\n",
        "\n",
        "x_train.insert(1,'X2',xsquare)\n",
        "x_train.insert(3,'Y2',ysquare)\n",
        "x_train.insert(5,'Z2',zsquare)\n",
        "x_train.insert(2,'XY',xy)\n",
        "x_train.insert(5,'YZ',yz)\n",
        "x_train.insert(8,'ZX',zx)\n"
      ],
      "metadata": {
        "id": "KvdTTvzh60h2"
      },
      "execution_count": null,
      "outputs": []
    },
    {
      "cell_type": "code",
      "source": [
        "x_test=temp2\n",
        "y_test=temp2['label']\n",
        "del x_test['Unnamed: 0']\n",
        "del x_test['label']\n",
        "x1=temp2['X']\n",
        "y1=temp2['Y']\n",
        "z1=temp2['Z']\n",
        "x1array=x1.to_numpy()\n",
        "y1array=y1.to_numpy()\n",
        "z1array=z1.to_numpy()\n",
        "x1square=np.multiply(x1array,x1array)\n",
        "y1square=np.multiply(y1array,y1array)\n",
        "z1square=np.multiply(z1array,z1array)\n",
        "x1y1=np.multiply(x1array,y1array)\n",
        "y1z1=np.multiply(y1array,z1array)\n",
        "z1x1=np.multiply(z1array,x1array)\n",
        "\n",
        "x_test.insert(1,'X2',x1square)\n",
        "x_test.insert(3,'Y2',y1square)\n",
        "x_test.insert(5,'Z2',z1square)\n",
        "x_test.insert(2,'XY',x1y1)\n",
        "x_test.insert(5,'YZ',y1z1)\n",
        "x_test.insert(8,'ZX',z1x1)"
      ],
      "metadata": {
        "id": "JcmjpMZSP1ui"
      },
      "execution_count": null,
      "outputs": []
    },
    {
      "cell_type": "code",
      "source": [
        "def normalize(arr,cou):\n",
        "  #max=np.max(arr)\n",
        "  #min=np.min(arr)\n",
        "  sum_elements=np.sum(arr)\n",
        "  mean=sum_elements/cou\n",
        "  d=arr-mean\n",
        "  std=np.sum(np.multiply(d,d))\n",
        "  stdev=(std/cou)**0.5\n",
        "  arr=(arr-mean)*(1/stdev)\n",
        "  return arr"
      ],
      "metadata": {
        "id": "hFcsM4dXZBIL"
      },
      "execution_count": null,
      "outputs": []
    },
    {
      "cell_type": "code",
      "source": [
        "X_train=x_train.to_numpy()\n",
        "Y_train=y_train.to_numpy()\n",
        "r,c=X_train.shape\n",
        "X_train=np.concatenate((np.ones((r,1)),X_train),axis=1)\n",
        "\n",
        "X_test=x_test.to_numpy()\n",
        "R,C=X_test.shape\n",
        "X_test=np.concatenate((np.ones((R,1)),X_test),axis=1)\n",
        "Y_test=y_test.to_numpy()\n",
        "\n",
        "X_train=X_train.T\n",
        "for i in range(c+1):\n",
        " if(i==0):\n",
        "  continue \n",
        " X_train[i]=normalize(X_train[i],r)\n",
        "X_train=X_train.T\n",
        "\n",
        "X_test=X_test.T\n",
        "for i in range(C+1):\n",
        " if(i==0):\n",
        "  continue \n",
        " X_test[i]=normalize(X_test[i],R)\n",
        "X_test=X_test.T"
      ],
      "metadata": {
        "id": "Z6y2Kyjq_bh8"
      },
      "execution_count": null,
      "outputs": []
    },
    {
      "cell_type": "code",
      "source": [
        "def plot(X, Y,):\n",
        "  plt.grid(True)\n",
        "  plt.scatter(X,Y, marker = \"x\")\n",
        "  plt.xlabel('X →')\n",
        "  plt.ylabel('Y →')\n",
        "  plt.show()"
      ],
      "metadata": {
        "id": "2qDyb-Sw_xTY"
      },
      "execution_count": null,
      "outputs": []
    },
    {
      "cell_type": "code",
      "source": [
        "def cost(X,Y,theta):\n",
        "  diff=X@theta-Y\n",
        "  J=(diff.T)@diff\n",
        "  return J"
      ],
      "metadata": {
        "id": "EOYiJh-z_zFM"
      },
      "execution_count": null,
      "outputs": []
    },
    {
      "cell_type": "code",
      "source": [
        "def train_(X,Y,no_iterations,learn):\n",
        "  np.random.seed(40)\n",
        "  #calculate rows, colums and generating parameters\n",
        "  row, column = X.shape \n",
        "  derivative=np.ones((column,1))\n",
        "  J= np.ones(no_iterations)\n",
        "  parameter=np.random.randn(column,1)\n",
        "  m=row\n",
        "  Y=Y.reshape(row,1)\n",
        "\n",
        "  for i in range(no_iterations):\n",
        "   #Initializing hypothesis and calulating cost function\n",
        "   Y_hypo= np.dot(X,parameter)\n",
        "   J[i]=(cost(X,Y,parameter))/(2*m)\n",
        "\n",
        "   #updating parameter by gradient descent\n",
        "   derivative=((X.T)@(Y_hypo-Y))/m\n",
        "   parameter=parameter- learn*derivative\n",
        "  plot(np.arange(no_iterations),J)\n",
        "  return parameter"
      ],
      "metadata": {
        "id": "wPUtkTyC_2Qq"
      },
      "execution_count": null,
      "outputs": []
    },
    {
      "cell_type": "code",
      "source": [
        "p=train_(X_train, Y_train,1000,1.9)\n",
        "#error=cost(X_train,Y_train.reshape(r,1),p)/(2*r)\n",
        "y_hypo=X_test @ p\n",
        "error=cost(X_test,Y_test.reshape(R,1),p)/(2*R)\n",
        "print(\"the error in test label prediction is: \", error[0,0])"
      ],
      "metadata": {
        "id": "S4auD2rMAzPR",
        "colab": {
          "base_uri": "https://localhost:8080/",
          "height": 297
        },
        "outputId": "fcdd20b1-61af-4f76-ed90-2591ab20fef9"
      },
      "execution_count": null,
      "outputs": [
        {
          "output_type": "display_data",
          "data": {
            "text/plain": [
              "<Figure size 432x288 with 1 Axes>"
            ],
            "image/png": "[encoded data removed]"
          },
          "metadata": {
            "needs_background": "light"
          }
        },
        {
          "output_type": "stream",
          "name": "stdout",
          "text": [
            "the error in test label prediction is:  26.16166678987422\n"
          ]
        }
      ]
    }
  ]
}