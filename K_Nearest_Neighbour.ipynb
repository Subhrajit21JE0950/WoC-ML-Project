{
  "nbformat": 4,
  "nbformat_minor": 0,
  "metadata": {
    "colab": {
      "name": "knearestneighbour.ipynb",
      "provenance": [],
      "collapsed_sections": []
    },
    "kernelspec": {
      "name": "python3",
      "display_name": "Python 3"
    },
    "language_info": {
      "name": "python"
    }
  },
  "cells": [
    {
      "cell_type": "code",
      "execution_count": 1,
      "metadata": {
        "id": "pWkHlIbA0AF8"
      },
      "outputs": [],
      "source": [
        "import pandas as pd\n",
        "import numpy as np\n"
      ]
    },
    {
      "cell_type": "code",
      "source": [
        "class KNearestNeighbor():\n",
        "\n",
        "  def __init__(self,k):\n",
        "    self.k = k\n",
        "\n",
        "  def train(self, X, y):\n",
        "    self.X_train = X\n",
        "    self.y_train = y\n",
        "\n",
        "  def predict(self, X_test):\n",
        "    distances = self.compute_distance(X_test)\n",
        "    return self.predict_labels(distances)\n",
        "\n",
        "  def compute_distance(self, X_test):\n",
        "    #Naive, inefficient way\n",
        "    \n",
        "    num_test = X_test.shape[0]\n",
        "    num_train = self.X_train.shape[0]\n",
        "    distances = np.zeros((num_test, num_train))\n",
        "    for i in range(num_test):\n",
        "      for j in range(num_train):\n",
        "        distances[i,j] = np.sqrt(np.sum((X_test[i,:] - self.X_train[j,:])**2))\n",
        "    \n",
        "    \n",
        "    return distances\n",
        "\n",
        "  def predict_labels(self, distances):\n",
        "    num_test = distances.shape[0]\n",
        "    y_pred = np.zeros(num_test)\n",
        "\n",
        "    for i in range(num_test):\n",
        "      y_indices = np.argsort(distances[i,:])\n",
        "      k_closest_classes = self.y_train[y_indices[:self.k]].astype(int)\n",
        "      y_pred[i] = np.argmax(np.bincount(k_closest_classes))\n",
        "  \n",
        "    return y_pred\n",
        "  "
      ],
      "metadata": {
        "id": "KknG-cdiQac5"
      },
      "execution_count": 2,
      "outputs": []
    },
    {
      "cell_type": "code",
      "source": [
        "  temp= pd.read_csv('/content/drive/MyDrive/Colab Notebooks/emnist-letters-train (1).csv')\n",
        "  temp1=pd.read_csv('/content/drive/MyDrive/Colab Notebooks/emnist-letters-test.csv')\n",
        "\n",
        "  y= temp['1']\n",
        "  Y = np.array(y)\n",
        "  x = temp\n",
        "  del x['1']\n",
        "  X = np.array(x)\n",
        "\n",
        "\n",
        "  y1 = temp1['1']\n",
        "  Y1 = np.array(y1.head(n=1000))\n",
        "  x1 = temp1\n",
        "  del x1['1']\n",
        "  X1 = np.array(x1.head(n = 1000))\n",
        "\n",
        "  \n",
        "    \n",
        "  KNN = KNearestNeighbor(k=3)\n",
        "  KNN.train(X,Y)\n",
        "  \n",
        "  y_pred = KNN.predict(X1)\n",
        "  \n",
        "  print(f'Accuracy: {sum(y_pred==Y1)/Y1.shape[0]*100}')\n",
        "  "
      ],
      "metadata": {
        "id": "jbRX1YLESa6e",
        "colab": {
          "base_uri": "https://localhost:8080/"
        },
        "outputId": "032a629e-1334-487d-fa75-3ff708f51b7b"
      },
      "execution_count": 5,
      "outputs": [
        {
          "output_type": "stream",
          "name": "stdout",
          "text": [
            "Accuracy: 84.8\n"
          ]
        }
      ]
    }
  ]
}
