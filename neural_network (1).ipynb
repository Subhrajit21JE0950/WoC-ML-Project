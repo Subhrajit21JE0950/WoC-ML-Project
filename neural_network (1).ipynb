{
  "cells": [
    {
      "cell_type": "code",
      "execution_count": 20,
      "metadata": {
        "id": "C-dzg1NY_jXt"
      },
      "outputs": [],
      "source": [
        "import numpy as np\n",
        "import pandas as pd\n",
        "import matplotlib.pyplot as plt"
      ]
    },
    {
      "cell_type": "code",
      "execution_count": 21,
      "metadata": {
        "id": "96j5WxYjou4n"
      },
      "outputs": [],
      "source": [
        "def normalize(arr,cou):\n",
        "  sum_elements=np.sum(arr)\n",
        "  if(sum_elements!=0):\n",
        "   mean=sum_elements/cou\n",
        "   d=arr-mean\n",
        "   std=np.sum(np.multiply(d,d))\n",
        "   stdev=(std/cou)**0.5\n",
        "   arr=(arr-mean)*(1/stdev)\n",
        "  return arr"
      ]
    },
    {
      "cell_type": "code",
      "execution_count": 22,
      "metadata": {
        "id": "uHn4HNjMpfIb"
      },
      "outputs": [],
      "source": [
        "def get_data(temp):\n",
        " y_train=temp['1']\n",
        " x_train=temp\n",
        " del x_train['1']\n",
        "\n",
        " X_train=x_train.to_numpy()\n",
        " Y_train=y_train.to_numpy()\n",
        " r,c=X_train.shape\n",
        " #X_train=np.concatenate((np.ones((r,1)),X_train),axis=1)\n",
        " \n",
        " X_train=X_train.T\n",
        " for i in range(c):\n",
        "  if(i==0):\n",
        "   continue \n",
        "  X_train[i]=normalize(X_train[i],r)\n",
        " X_train=X_train.T\n",
        " \n",
        " return X_train,Y_train"
      ]
    },
    {
      "cell_type": "code",
      "execution_count": 23,
      "metadata": {
        "id": "Y163yR4uYt9g"
      },
      "outputs": [],
      "source": [
        "temp= pd.read_csv('/content/drive/MyDrive/Colab Notebooks/emnist-letters-train (1).csv')\n",
        "temp1=pd.read_csv('/content/drive/MyDrive/Colab Notebooks/emnist-letters-test.csv')\n",
        "\n",
        "y1 = temp1['1']\n",
        "Y1 = np.array(y1)\n",
        "j = 5\n",
        "x,y=get_data(temp)\n",
        "X = np.array(pd.DataFrame(x))\n",
        "Y = np.array(pd.DataFrame(y))\n",
        "x_train = X\n",
        "y_train = Y\n",
        "\n",
        "x1,y1=get_data(temp1)\n",
        "X1 = np.array(pd.DataFrame(x1))\n",
        "Y1 = np.array(pd.DataFrame(y1))\n",
        "x_val = X1\n",
        "y_val = Y1"
      ]
    },
    {
      "cell_type": "code",
      "execution_count": 24,
      "metadata": {
        "id": "7IwahPRLn-mT"
      },
      "outputs": [],
      "source": [
        "class NN():\n",
        "    def __init__(self, sizes, epochs=2, l_rate=0.001):\n",
        "        self.sizes = sizes\n",
        "        self.epochs = epochs\n",
        "        self.l_rate = l_rate\n",
        "        self.params = self.initialization()\n",
        "\n",
        "    def sigmoid(self, x, derivative=False):\n",
        "        if derivative:\n",
        "            return (np.exp(-x))/((np.exp(-x)+1)**2)\n",
        "        return 1/(1 + np.exp(-x))\n",
        "\n",
        "    def softmax(self, x, derivative=False):\n",
        "        exps = np.exp(x - x.max())\n",
        "        if derivative:\n",
        "            return exps / np.sum(exps, axis=0) * (1 - exps / np.sum(exps, axis=0))\n",
        "        return exps / np.sum(exps, axis=0)\n",
        "\n",
        "    def initialization(self):\n",
        "        input_layer=self.sizes[0]\n",
        "        hidden_1=self.sizes[1]\n",
        "        hidden_2=self.sizes[2]\n",
        "        output_layer=self.sizes[3]\n",
        "        np.random.seed(42)\n",
        "\n",
        "        params = {\n",
        "            'W1':np.random.randn(hidden_1, input_layer) * np.sqrt(1. / hidden_1),\n",
        "            'W2':np.random.randn(hidden_2, hidden_1) * np.sqrt(1. / hidden_2),\n",
        "            'W3':np.random.randn(output_layer, hidden_2) * np.sqrt(1. / output_layer)\n",
        "        }\n",
        "\n",
        "        return params\n",
        "\n",
        "    def forward_pass(self, x_train):\n",
        "        params = self.params\n",
        "        params['A0'] = x_train\n",
        "        params['Z1'] = np.dot(params[\"W1\"], params['A0'])\n",
        "        params['A1'] = self.sigmoid(params['Z1'])\n",
        "        params['Z2'] = np.dot(params[\"W2\"], params['A1'])\n",
        "        params['A2'] = self.sigmoid(params['Z2'])\n",
        "        params['Z3'] = np.dot(params[\"W3\"], params['A2'])\n",
        "        params['A3'] = self.softmax(params['Z3'])\n",
        "\n",
        "        return params['A3']\n",
        "\n",
        "    def backward_pass(self, y_train, output):\n",
        "        params = self.params\n",
        "        change_w = {}\n",
        "        error = 2 * (output - y_train) / output.shape[0] * self.softmax(params['Z3'], derivative=True)\n",
        "        change_w['W3'] = np.outer(error, params['A2'])\n",
        "        error = np.dot(params['W3'].T, error) * self.sigmoid(params['Z2'], derivative=True)\n",
        "        change_w['W2'] = np.outer(error, params['A1'])\n",
        "        error = np.dot(params['W2'].T, error) * self.sigmoid(params['Z1'], derivative=True)\n",
        "        change_w['W1'] = np.outer(error, params['A0'])\n",
        "\n",
        "        return change_w\n",
        "\n",
        "    def update_network_parameters(self, changes_to_w):\n",
        "        for key, value in changes_to_w.items():\n",
        "            self.params[key] -= self.l_rate * value\n",
        "\n",
        "    def compute_accuracy(self, x_val, y_val):\n",
        "        predictions = []\n",
        "\n",
        "        for x, y in zip(x_val, y_val):\n",
        "            output = self.forward_pass(x)\n",
        "            pred = np.argmax(output)\n",
        "            predictions.append(pred == np.argmax(y))\n",
        "        \n",
        "        return np.mean(predictions)*2\n",
        "\n",
        "    def train(self, x_train, y_train, x_val, y_val):\n",
        "        for iteration in range(self.epochs):\n",
        "            for x,y in zip(x_train, y_train):\n",
        "                output = self.forward_pass(x)\n",
        "                changes_to_w = self.backward_pass(y, output)\n",
        "                self.update_network_parameters(changes_to_w)\n",
        "            \n",
        "            accuracy = self.compute_accuracy(x_val, y_val)\n",
        "            print('Epoch: {0}, Accuracy: ', accuracy * 100)"
      ]
    },
    {
      "cell_type": "code",
      "execution_count": 25,
      "metadata": {
        "colab": {
          "base_uri": "https://localhost:8080/"
        },
        "id": "mwuoz9eOopAg",
        "outputId": "24c7b2ac-36d6-435d-e195-7f9914e5cead"
      },
      "outputs": [
        {
          "output_type": "stream",
          "name": "stdout",
          "text": [
            "Epoch: {0}, Accuracy:  86.85135135135134\n",
            "Epoch: {0}, Accuracy:  90.71621621621621\n"
          ]
        }
      ],
      "source": [
        "dnn = NN(sizes=[784, 128, 64, 10])\n",
        "dnn.train(x_train, y_train, x_val, y_val)"
      ]
    }
  ],
  "metadata": {
    "colab": {
      "name": "neural_network.ipynb",
      "provenance": []
    },
    "kernelspec": {
      "display_name": "Python 3",
      "name": "python3"
    },
    "language_info": {
      "name": "python"
    }
  },
  "nbformat": 4,
  "nbformat_minor": 0
}