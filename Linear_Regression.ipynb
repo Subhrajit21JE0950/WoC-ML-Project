{
  "nbformat": 4,
  "nbformat_minor": 0,
  "metadata": {
    "colab": {
      "name": "LinearRegression.ipynb",
      "provenance": [],
      "collapsed_sections": []
    },
    "kernelspec": {
      "name": "python3",
      "display_name": "Python 3"
    },
    "language_info": {
      "name": "python"
    }
  },
  "cells": [
    {
      "cell_type": "code",
      "source": [
        "import pandas as pd\n",
        "import numpy as np\n",
        "import matplotlib.pyplot as plt"
      ],
      "metadata": {
        "id": "eMi-yzQBAFx8"
      },
      "execution_count": 1,
      "outputs": []
    },
    {
      "cell_type": "code",
      "source": [
        "temp=pd.read_csv('/content/drive/MyDrive/Colab Notebooks/Linear_train.csv')\n",
        "temp2=pd.read_csv('/content/drive/MyDrive/Colab Notebooks/Linear_test.csv')"
      ],
      "metadata": {
        "id": "Y84yMbBoAkqn"
      },
      "execution_count": 2,
      "outputs": []
    },
    {
      "cell_type": "code",
      "source": [
        "x_train=temp\n",
        "y_train=temp['label']\n",
        "del x_train['Unnamed: 0']\n",
        "del x_train['label']\n",
        "x_test=temp2\n",
        "y_test=temp2['label']\n",
        "del x_test['Unnamed: 0']\n",
        "del x_test['label']\n"
      ],
      "metadata": {
        "id": "-MXSwb7PEMBV"
      },
      "execution_count": 3,
      "outputs": []
    },
    {
      "cell_type": "code",
      "source": [
        "def normalize(arr,cou):\n",
        "  #max=np.max(arr)\n",
        "  #min=np.min(arr)\n",
        "  sum_elements=np.sum(arr)\n",
        "  mean=sum_elements/cou\n",
        "  d=arr-mean\n",
        "  std=np.sum(np.multiply(d,d))\n",
        "  stdev=(std/cou)**0.5\n",
        "  arr=(arr-mean)*(1/stdev)\n",
        "  return arr"
      ],
      "metadata": {
        "id": "P5XMGx3xPbLl"
      },
      "execution_count": 4,
      "outputs": []
    },
    {
      "cell_type": "code",
      "source": [
        "X_train=x_train.to_numpy()\n",
        "Y_train=y_train.to_numpy()\n",
        "r,c=X_train.shape\n",
        "X_train=np.concatenate((np.ones((r,1)),X_train),axis=1)\n",
        "\n",
        "X_test=x_test.to_numpy()\n",
        "R,C=X_test.shape\n",
        "X_test=np.concatenate((np.ones((R,1)),X_test),axis=1)\n",
        "Y_test=y_test.to_numpy()\n",
        "\n",
        "X_train=X_train.T\n",
        "X_test=X_test.T\n",
        "for i in range(c+1):\n",
        " if(i==0):\n",
        "  continue \n",
        " X_train[i]=normalize(X_train[i],r)\n",
        "\n",
        "for i in range(C+1):\n",
        " if(i==0):\n",
        "  continue \n",
        " X_test[i]=normalize(X_test[i],R)\n",
        "\n",
        "X_train=X_train.T\n",
        "X_test=X_test.T"
      ],
      "metadata": {
        "id": "joDbBDBSEy7y"
      },
      "execution_count": 5,
      "outputs": []
    },
    {
      "cell_type": "code",
      "source": [
        "def plot(X, Y,):\n",
        "  plt.grid(True)\n",
        "  plt.scatter(X,Y, marker = \"x\")\n",
        "  plt.xlabel('X →')\n",
        "  plt.ylabel('Y →')\n",
        "  plt.show()"
      ],
      "metadata": {
        "id": "uk4YOAWxXjC9"
      },
      "execution_count": 6,
      "outputs": []
    },
    {
      "cell_type": "code",
      "source": [
        "def cost(X,Y,theta):\n",
        "  diff=X@theta-Y\n",
        "  J=(diff.T)@diff\n",
        "  return J"
      ],
      "metadata": {
        "id": "vLGgJ9lsX4Zy"
      },
      "execution_count": 7,
      "outputs": []
    },
    {
      "cell_type": "code",
      "source": [
        "def train_(X,Y,no_iterations,learn):\n",
        "\n",
        "  np.random.seed(30)\n",
        "  #calculate rows, colums and generating parameters\n",
        "  row, column = X.shape \n",
        "\n",
        "  derivative=np.ones((column,1))\n",
        "  J= np.ones(no_iterations)\n",
        "  parameter=np.random.randn(column,1)\n",
        "  m=row\n",
        "  Y=Y.reshape(row,1)\n",
        "\n",
        "  for i in range(no_iterations):\n",
        "   #Initializing hypothesis and calulating cost function\n",
        "   Y_hypo= np.dot(X,parameter)\n",
        "   J[i]=(cost(X,Y,parameter))/(2*m)\n",
        "\n",
        "   #updating parameter by gradient descent\n",
        "   derivative=((X.T)@(Y_hypo-Y))/m\n",
        "   parameter=parameter- learn*derivative\n",
        "  plot(np.arange(no_iterations),J)\n",
        "  return parameter"
      ],
      "metadata": {
        "id": "jpZAVlZSSj35"
      },
      "execution_count": 8,
      "outputs": []
    },
    {
      "cell_type": "code",
      "source": [
        "p=train_(X_train, Y_train,1000,1.6)\n",
        "error=cost(X_test,Y_test.reshape(R,1),p)/(2*R)\n",
        "#y_hypo=X_test @ p\n",
        "#error=cost(X_test,Y_test.reshape(R,1),p)/(2*R)\n",
        "print(\"the cost function in test label prediction is: \", error[0,0])"
      ],
      "metadata": {
        "colab": {
          "base_uri": "https://localhost:8080/",
          "height": 307
        },
        "id": "k6HTej2PY57_",
        "outputId": "8e2a7e61-7fa9-4bce-e56b-bb1abc85f861"
      },
      "execution_count": 9,
      "outputs": [
        {
          "output_type": "display_data",
          "data": {
            "text/plain": [
              "<Figure size 432x288 with 1 Axes>"
            ],
            "image/png": "[encoded data removed]"
          },
          "metadata": {
            "needs_background": "light"
          }
        },
        {
          "output_type": "stream",
          "name": "stdout",
          "text": [
            "the cost function in test label prediction is:  2522.3800425307527\n"
          ]
        }
      ]
    },
    {
      "cell_type": "markdown",
      "source": [
        "# New Section"
      ],
      "metadata": {
        "id": "EtEyKH4VBRg8"
      }
    }
  ]
}
